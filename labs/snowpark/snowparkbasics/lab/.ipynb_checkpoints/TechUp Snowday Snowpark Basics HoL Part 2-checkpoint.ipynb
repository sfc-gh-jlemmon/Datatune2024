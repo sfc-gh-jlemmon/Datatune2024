{
 "cells": [
  {
   "cell_type": "markdown",
   "id": "3b648ee8",
   "metadata": {},
   "source": [
    "# Snowpark Basics HoL Part 2 - Joins and Views"
   ]
  },
  {
   "cell_type": "markdown",
   "id": "1ed15903",
   "metadata": {},
   "source": [
    "## 2.1 Setup"
   ]
  },
  {
   "cell_type": "markdown",
   "id": "ae2e8402-54a4-47da-a6b2-da3d063f934a",
   "metadata": {},
   "source": [
    "### Imports"
   ]
  },
  {
   "cell_type": "code",
   "execution_count": null,
   "id": "7410ce0d",
   "metadata": {},
   "outputs": [],
   "source": [
    "from snowflake.snowpark.session import Session\n",
    "import snowflake.snowpark.functions as F\n",
    "import snowflake.snowpark.types as T\n",
    "\n",
    "import sys\n",
    "import json\n",
    "import pandas as pd\n",
    "import numpy as np\n",
    "\n",
    "# Make sure we do not get line breaks when doing show on wide dataframes\n",
    "from IPython.core.display import HTML\n",
    "display(HTML(\"<style>pre { white-space: pre !important; }</style>\"))"
   ]
  },
  {
   "cell_type": "markdown",
   "id": "a1f95920",
   "metadata": {},
   "source": [
    "### Create Snowpark Session"
   ]
  },
  {
   "cell_type": "code",
   "execution_count": null,
   "id": "27d5f942-4348-4763-93de-0d0e5f7ed4d0",
   "metadata": {},
   "outputs": [],
   "source": [
    "with open('creds.json') as f:\n",
    "    connection_parameters = json.load(f)"
   ]
  },
  {
   "cell_type": "code",
   "execution_count": null,
   "id": "49090e02",
   "metadata": {},
   "outputs": [],
   "source": [
    "session = Session.builder.configs(connection_parameters).create()\n",
    "print(f\"Current Database and schema: {session.get_fully_qualified_current_schema()}\")\n",
    "print(f\"Current Warehouse: {session.get_current_warehouse()}\")"
   ]
  },
  {
   "cell_type": "markdown",
   "id": "27e9da18-f43d-487f-b041-d5223b99395c",
   "metadata": {},
   "source": [
    "### Snowpark DataFrames from Tables"
   ]
  },
  {
   "cell_type": "code",
   "execution_count": null,
   "id": "623695f6",
   "metadata": {},
   "outputs": [],
   "source": [
    "# Creating a Snowpark DataFrame\n",
    "snowpark_truck_df = session.table('TRUCK')\n",
    "snowpark_header_df = session.table('ORDER_HEADER')\n",
    "snowpark_detail_df = session.table('ORDER_DETAIL')\n",
    "snowpark_location_df = session.table('LOCATION')\n",
    "snowpark_menu_df = session.table('MENU')\n",
    "\n",
    "print(f\"ORDER_DETAIL rows: {snowpark_detail_df.count()}\")\n"
   ]
  },
  {
   "cell_type": "markdown",
   "id": "e01a48f9-ed44-4974-9493-137c303d328c",
   "metadata": {},
   "source": [
    "## 2.2 Joins"
   ]
  },
  {
   "cell_type": "markdown",
   "id": "c8f09c8a-d6e6-4160-8740-24d38e03b741",
   "metadata": {},
   "source": [
    "### Intro to Joins\n",
    "Snowpark Dataframes can be joined through various methods. An inner join with a Cartesian product is the default but one can specify the join columns and type of join as optional arguments..\n",
    "\n",
    "```python\n",
    "table1_df = session.table(\"<table 1 name>\")\n",
    "table2_df = session.table(\"<table 2 name>\")\n",
    "\n",
    "joined_df = table1_df.join(table2_df) # Cartesian product\n",
    "\n",
    "```\n",
    "\n",
    "If the desired join **Columns** have the same names in both Dataframes a simple string can be passed as a second argument.\n",
    "\n",
    "```python\n",
    "joined_df = table1_df.join(table2_df, \"<some common column name>\") \n",
    "\n",
    "```\n",
    "\n",
    "A List of common join Columns names could be passed. \n",
    "\n",
    "```python\n",
    "joined_df = table1_df.join(table2_df, [\"join_col1_name\", \"join_col2_name\"]) \n",
    "\n",
    "```\n"
   ]
  },
  {
   "cell_type": "code",
   "execution_count": null,
   "id": "cf5a29c3-badb-4538-a7a0-4b445ac888e5",
   "metadata": {},
   "outputs": [],
   "source": [
    "truck_df1 = snowpark_truck_df.select(\"TRUCK_ID\", \"MENU_TYPE_ID\", \"PRIMARY_CITY\", \"ISO_COUNTRY_CODE\")\n",
    "header_df1 = snowpark_header_df.select(\"ORDER_ID\", \"TRUCK_ID\", \"LOCATION_ID\", \"CUSTOMER_ID\", \"ORDER_TS\")\n",
    "truck_header_df = truck_df1.join(header_df1, \"TRUCK_ID\")\n",
    "truck_header_df.queries"
   ]
  },
  {
   "cell_type": "code",
   "execution_count": null,
   "id": "f5872212-488d-4bac-9a88-bad778b31bc7",
   "metadata": {},
   "outputs": [],
   "source": [
    "truck_header_df.limit(10).to_pandas()"
   ]
  },
  {
   "cell_type": "markdown",
   "id": "03ea0fc5",
   "metadata": {},
   "source": [
    "Note that the duplicate join column is removed from the result set."
   ]
  },
  {
   "cell_type": "markdown",
   "id": "2cb306bc-75a6-4719-a412-3f0b91ab9858",
   "metadata": {},
   "source": [
    "### Multi-Table Joins and Repeated Column Names\n",
    "What if we want to join multiple tables? We can string joins together.\n",
    "\n",
    "Let's reduce our MENU and ORDER_DETAIL columns, and then join them to the existing joined dataframe of TRUCK and ORDER_HEADER."
   ]
  },
  {
   "cell_type": "code",
   "execution_count": null,
   "id": "43db7633",
   "metadata": {},
   "outputs": [],
   "source": [
    "menu_df1 = snowpark_menu_df.drop(\"MENU_ITEM_HEALTH_METRICS_OBJ\")\n",
    "detail_df1 = snowpark_detail_df.drop(\"LINE_NUMBER\",\"DISCOUNT_ID\",\"ORDER_ITEM_DISCOUNT_AMOUNT\")\n",
    "\n",
    "combined_order_df = truck_header_df.join(detail_df1, \"ORDER_ID\").join(menu_df1,\"MENU_ITEM_ID\")\n",
    "combined_order_df.show()"
   ]
  },
  {
   "cell_type": "markdown",
   "id": "d3cf44c3",
   "metadata": {},
   "source": [
    "Because MENU_TYPE_ID appears in two tables but is NOT a join column, Snowpark includes both and generates a prefix for each.\n",
    "One way to fix this is would be to ensure that column names in the original dataframes to be joined are unique, perhaps selecting explicitly and using aliases.\n",
    "\n",
    "Another is to add a select to the join dataframe definition.  In this select you can refer to the original dataframe columns and alias them. It could get cumbersome if you want all the columns.\n",
    "\n",
    "(Syntax note - Wrapping a longer command across multiple lines will work if the break is within brackets - otherwise use the backslash as shown below.)"
   ]
  },
  {
   "cell_type": "code",
   "execution_count": null,
   "id": "3abd6cdd-569f-4b7b-8562-0e8d836fa96d",
   "metadata": {},
   "outputs": [],
   "source": [
    "combined_order_df = truck_header_df.join(detail_df1, \"ORDER_ID\")\\\n",
    "     .join(menu_df1,\"MENU_ITEM_ID\")\\\n",
    "     .select(\"ORDER_ID\",\"ORDER_DETAIL_ID\",F.col(\"MENU_ITEM_ID\"),truck_header_df[\"MENU_TYPE_ID\"].alias(\"TRUCK_MENU_TYPE_ID\"),\n",
    "             menu_df1[\"MENU_TYPE_ID\"].alias(\"MENU_MENU_TYPE_ID\"))\n",
    "combined_order_df.show()"
   ]
  },
  {
   "cell_type": "markdown",
   "id": "d662ef85-482e-43e9-9f26-538757bf61f0",
   "metadata": {},
   "source": [
    "This is another approach using join parameters lsuffix and rsuffix."
   ]
  },
  {
   "cell_type": "code",
   "execution_count": null,
   "id": "62181c44-1ed9-4f00-82d4-0bc6a9cf59f1",
   "metadata": {},
   "outputs": [],
   "source": [
    "combined_order_df = truck_header_df.join(detail_df1, \"ORDER_ID\").join(menu_df1,\"MENU_ITEM_ID\",lsuffix = \"_TRUCK\", rsuffix = \"_MENU\")\n",
    "combined_order_df.show()"
   ]
  },
  {
   "cell_type": "markdown",
   "id": "90b21a2a-7f4e-41bc-b743-b496fa412ce6",
   "metadata": {},
   "source": [
    "### Other Joins\n",
    "What if we want a left join? The join method takes a parameter such as \"left\".\n",
    "\n",
    "Let's get a list of locations in GB or FR and their aggregated sales on 2022-02-01 (including null sales)."
   ]
  },
  {
   "cell_type": "code",
   "execution_count": null,
   "id": "e1ec1ddc",
   "metadata": {},
   "outputs": [],
   "source": [
    "location_df1 = snowpark_location_df.select(\"LOCATION_ID\",\"LOCATION\", \"CITY\", \"ISO_COUNTRY_CODE\")\n",
    "location_df1 = location_df1.filter(F.col(\"ISO_COUNTRY_CODE\").in_(\"GB\",\"FR\")).sort(\"LOCATION\")\n",
    "location_df1.show()\n",
    "\n",
    "header_df1 = snowpark_header_df.select(\"LOCATION_ID\",\"ORDER_AMOUNT\",\"ORDER_TS\")\n",
    "header_df1 = header_df1.with_column(\"ORDER_DATE\", F.to_date(F.col(\"ORDER_TS\"))).drop(\"ORDER_TS\")\n",
    "header_df1 = header_df1.group_by(['LOCATION_ID','ORDER_DATE']).agg(F.sum('ORDER_AMOUNT').as_('TOTAL_ORDER_AMOUNT'))\n",
    "header_df1 = header_df1.filter(F.col('ORDER_DATE') == '2022-02-01')\n",
    "header_df1.show()\n",
    "\n",
    "gbfrfeb1_df = location_df1.join(header_df1, \"LOCATION_ID\",\"left\").sort(\"LOCATION\")\n",
    "gbfrfeb1_df.show()"
   ]
  },
  {
   "cell_type": "markdown",
   "id": "bc3c3a6a",
   "metadata": {},
   "source": [
    "## 2.3 Tables and Views\n",
    "\n",
    "We have a number of options to save our transformed dataframes within Snowflake. Let's take the dataframe above and see what we can do with it."
   ]
  },
  {
   "cell_type": "markdown",
   "id": "8129a968-d070-4965-ab64-fc5c32898f68",
   "metadata": {},
   "source": [
    "### Saving DataFrames as Tables\n",
    "\n",
    "As we saw in the previous section, we can write the data out to a table."
   ]
  },
  {
   "cell_type": "code",
   "execution_count": null,
   "id": "995c4a8d",
   "metadata": {},
   "outputs": [],
   "source": [
    "gbfrfeb1_df.write.save_as_table(table_name='GBFRFEB01_TABLE', mode='overwrite')\n",
    "session.table('GBFRFEB01_TABLE').show()"
   ]
  },
  {
   "cell_type": "markdown",
   "id": "de37e1ed-e830-4a1e-ac74-8f648a85c0e4",
   "metadata": {},
   "source": [
    "What if the table aleady exists?  Then we can set mode = 'append'.  \n",
    "<br>We can also set column_order = 'index' i.e. in the order provided (default), or 'name' to match names."
   ]
  },
  {
   "cell_type": "code",
   "execution_count": null,
   "id": "1c96c637-14fb-42dd-af05-b00d8842558d",
   "metadata": {},
   "outputs": [],
   "source": [
    "gbfrfeb1_df1 = gbfrfeb1_df.select(\"LOCATION_ID\", \"LOCATION\", \"ORDER_DATE\", \"TOTAL_ORDER_AMOUNT\", \"CITY\", \"ISO_COUNTRY_CODE\")\n",
    "# This will fail:\n",
    "# gbfrfeb1_df1.write.save_as_table(table_name='GBFRFEB01_TABLE', mode='append')\n",
    "# This should succeed:\n",
    "gbfrfeb1_df1.write.save_as_table(table_name='GBFRFEB01_TABLE', mode='append', column_order = 'name')\n",
    "\n",
    "session.table('GBFRFEB01_TABLE').show()"
   ]
  },
  {
   "cell_type": "markdown",
   "id": "eecb0b80-ac95-4b6f-9924-42bae56d756b",
   "metadata": {},
   "source": [
    "A further optional parameter allows you to set table_type as 'temporary' or 'transient'"
   ]
  },
  {
   "cell_type": "markdown",
   "id": "ae8ec438-4c32-4749-8f4b-92b04b126ede",
   "metadata": {},
   "source": [
    "### Saving DataFrames as Views\n",
    "\n",
    "The dataframe query can also be turned into a view. It is also possible to create a temporary view. \n",
    "Note that this method is unusual in that it doesn't require an action to be executed - it is run 'eagerly'. "
   ]
  },
  {
   "cell_type": "code",
   "execution_count": null,
   "id": "8a66d3aa-93a4-4543-9491-a571047ac040",
   "metadata": {},
   "outputs": [],
   "source": [
    "gbfrfeb1_df.create_or_replace_view('GBFRFEB01_VIEW')\n",
    "session.sql (\"SHOW VIEWS\").show()\n",
    "\n",
    "session.table('GBFRFEB01_VIEW').show()"
   ]
  },
  {
   "cell_type": "markdown",
   "id": "ec879589-91f8-4dda-ba71-4446b71a3a52",
   "metadata": {},
   "source": [
    "## 2.X YOUR TURN!\n",
    "\n",
    "Here is the challenge: You have been asked to analyse the numbers of different 'Beverage' items sold by location country for February 2022.  \n",
    "You are to present the answers in two ways:  \n",
    "by country, listing the most to least popular beverages  \n",
    "by beverage, listing the top to bottom countries  \n",
    "\n",
    "Then, save the data as a new table BEVERAGE202202"
   ]
  },
  {
   "cell_type": "markdown",
   "id": "7f52ca57-4653-483a-96ed-095a102a71bb",
   "metadata": {},
   "source": [
    "### Check out the data\n",
    "\n",
    "What columns in Location, Menu, Order Header and Order Item will you need?  \n",
    "You can optionally create simpler dataframes just to hold those columns."
   ]
  },
  {
   "cell_type": "code",
   "execution_count": null,
   "id": "efa2e829-4e3e-4c92-8d33-2300d4bb1347",
   "metadata": {},
   "outputs": [],
   "source": []
  },
  {
   "cell_type": "code",
   "execution_count": null,
   "id": "22dd7e50-4eb4-47e3-af53-3ca409bf74cc",
   "metadata": {},
   "outputs": [],
   "source": []
  },
  {
   "cell_type": "markdown",
   "id": "f8ac4d5f-b306-40ea-9022-87ae55a75e99",
   "metadata": {},
   "source": [
    "### Select the right month from Order Headers and right category from Menu\n",
    "\n",
    "The functions.year and functions.month methods extract those date parts from a date or time. \n",
    "Conditions can be joined with & but must be enclosed in brackets."
   ]
  },
  {
   "cell_type": "code",
   "execution_count": null,
   "id": "52c551a8-9f8d-4e8b-85f5-f958265327d0",
   "metadata": {},
   "outputs": [],
   "source": []
  },
  {
   "cell_type": "markdown",
   "id": "8b8d8a81-b0ba-4b6f-b2a1-d2851d744215",
   "metadata": {},
   "source": [
    "### Join the tables\n",
    "You need a 4-way join."
   ]
  },
  {
   "cell_type": "code",
   "execution_count": null,
   "id": "8f410e58-e362-426b-a4bf-3c99961e868e",
   "metadata": {},
   "outputs": [],
   "source": []
  },
  {
   "cell_type": "markdown",
   "id": "7bf0fa0c-d782-43d8-8f73-30f23d689d56",
   "metadata": {},
   "source": [
    "### Now aggregate\n",
    "Sum quantities by location and item. Display in different sort orders."
   ]
  },
  {
   "cell_type": "code",
   "execution_count": null,
   "id": "a4dc8b69",
   "metadata": {},
   "outputs": [],
   "source": []
  },
  {
   "cell_type": "markdown",
   "id": "136485ee-c5b4-4ebe-8a94-aa809f632391",
   "metadata": {},
   "source": [
    "### Save as table\n",
    "Sum quantities by location and item. Display in different sort orders."
   ]
  },
  {
   "cell_type": "code",
   "execution_count": null,
   "id": "aeac17a5-a7cb-4e8b-9a0e-aa1793858606",
   "metadata": {},
   "outputs": [],
   "source": []
  },
  {
   "cell_type": "code",
   "execution_count": null,
   "id": "d80f35d2-1ea0-4816-8923-e474cdeacaff",
   "metadata": {},
   "outputs": [],
   "source": [
    "session.close()"
   ]
  },
  {
   "cell_type": "code",
   "execution_count": null,
   "id": "e96a65b7-e7e3-4164-ab6b-5c046a5a475a",
   "metadata": {},
   "outputs": [],
   "source": []
  }
 ],
 "metadata": {
  "kernelspec": {
   "display_name": "Python 3 (ipykernel)",
   "language": "python",
   "name": "python3"
  },
  "language_info": {
   "codemirror_mode": {
    "name": "ipython",
    "version": 3
   },
   "file_extension": ".py",
   "mimetype": "text/x-python",
   "name": "python",
   "nbconvert_exporter": "python",
   "pygments_lexer": "ipython3",
   "version": "3.10.13"
  }
 },
 "nbformat": 4,
 "nbformat_minor": 5
}
